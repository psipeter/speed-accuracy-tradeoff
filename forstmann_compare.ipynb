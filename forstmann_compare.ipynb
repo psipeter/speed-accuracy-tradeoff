{
 "cells": [
  {
   "cell_type": "code",
   "execution_count": 1,
   "id": "6441ff18-a757-4b54-9af0-235937bcb5a0",
   "metadata": {},
   "outputs": [],
   "source": [
    "import numpy as np\n",
    "import nengo\n",
    "from nengo import Lowpass\n",
    "import matplotlib.pyplot as plt\n",
    "import seaborn as sns\n",
    "import pandas as pd\n",
    "import scipy.io\n",
    "from model import DotPerception, detect_extrema_dot_motion\n",
    "import pyreadr\n",
    "palette = sns.color_palette(\"colorblind\")\n",
    "sns.set_palette(palette)\n",
    "sns.set(context='paper', style='ticks', rc={'font.size':12, 'mathtext.fontset': 'cm'})"
   ]
  },
  {
   "cell_type": "markdown",
   "id": "733c638a-2e69-4b75-80dc-4d3d23c9cfb3",
   "metadata": {},
   "source": [
    "# Model"
   ]
  },
  {
   "cell_type": "code",
   "execution_count": 2,
   "id": "a966af52-b511-4920-815e-c1867ff1b5a8",
   "metadata": {},
   "outputs": [],
   "source": [
    "def build_network(inputs, w_accumulator, w_speed, nActions=2, nNeurons=500, synapse=0.1, seed=0, ramp=1, threshold=0.5, speed=-0.1, relative=0,\n",
    "        max_rates=nengo.dists.Uniform(60, 80), rA=1, save_w=False, weights_or_decoders=\"decoders\"):\n",
    "    \n",
    "    net = nengo.Network(seed=seed)\n",
    "    net.config[nengo.Connection].synapse = 0.03\n",
    "    net.config[nengo.Probe].synapse = 0.03\n",
    "    net.config[nengo.Ensemble].max_rates = max_rates\n",
    "\n",
    "    # references\n",
    "    net.inputs = inputs\n",
    "    net.seed = seed\n",
    "    net.synapse = synapse\n",
    "    net.nNeurons = nNeurons\n",
    "\n",
    "    net.ramp = ramp\n",
    "    net.threshold = threshold\n",
    "    net.speed = speed\n",
    "    net.relative = relative\n",
    "\n",
    "    func_input = lambda t: net.inputs.sample(t)\n",
    "    func_threshold = lambda t: net.threshold\n",
    "    func_speed = lambda t: net.speed\n",
    "    func_ramp = lambda x: net.synapse * net.ramp * x\n",
    "    func_value = lambda x: [x[0]-x[1]*net.relative, x[1]-x[0]*net.relative]  # raw evidence vs relative advantage\n",
    "\n",
    "    ePos = nengo.dists.Choice([[1]])\n",
    "    iPos = nengo.dists.Uniform(0, 1)\n",
    "\n",
    "    with net:\n",
    "        # Inputs\n",
    "        environment = nengo.Node(func_input)\n",
    "        baseline_threshold = nengo.Node(func_threshold)\n",
    "        speed_control = nengo.Node(func_speed)\n",
    "        # Ensembles\n",
    "        perception = nengo.Ensemble(nNeurons, nActions, seed=seed)\n",
    "        accumulator = nengo.Ensemble(nNeurons, nActions, radius=rA, seed=seed)\n",
    "        value = nengo.Ensemble(nNeurons, nActions, radius=net.threshold, seed=seed)\n",
    "        boundary = nengo.Ensemble(nNeurons, 1, seed=seed)\n",
    "        gate = nengo.Ensemble(nNeurons, 1, encoders=ePos, intercepts=iPos, seed=seed)\n",
    "        action = nengo.networks.EnsembleArray(nNeurons, nActions, encoders=ePos, intercepts=iPos, seed=seed)\n",
    "        # Connections\n",
    "        nengo.Connection(environment, perception, seed=seed)  # external inputs\n",
    "        nengo.Connection(perception, accumulator, synapse=net.synapse, function=func_ramp, seed=seed)  # send percepts to accumulator\n",
    "        # recurrent cortical connection for accumulation\n",
    "        if save_w:\n",
    "            conn_accumulator = nengo.Connection(accumulator, accumulator, synapse=net.synapse, seed=seed)            \n",
    "        elif weights_or_decoders==\"decoders\":\n",
    "            conn_accumulator = nengo.Connection(accumulator.neurons, accumulator, synapse=net.synapse, transform=w_accumulator, seed=seed)\n",
    "        elif weights_or_decoders==\"weights\":\n",
    "            conn_accumulator = nengo.Connection(accumulator.neurons, accumulator.neurons, synapse=net.synapse, transform=w_accumulator, seed=seed)\n",
    "        nengo.Connection(accumulator, value, function=func_value, seed=seed)  # compute value from evidence in accumulator\n",
    "        nengo.Connection(value, action.input, seed=seed)\n",
    "        nengo.Connection(baseline_threshold, gate, seed=seed)  # baseline activity for gate population\n",
    "        nengo.Connection(speed_control, boundary, seed=seed)  # external inputs (from \"cortex\") sets decision threshold based on task instructions\n",
    "        # corticostriatal white matter connection\n",
    "        if save_w:\n",
    "            conn_speed = nengo.Connection(boundary, gate, seed=seed)\n",
    "        elif weights_or_decoders==\"decoders\":\n",
    "            conn_speed = nengo.Connection(boundary.neurons, gate, transform=w_speed, seed=seed)\n",
    "        elif weights_or_decoders==\"weights\":\n",
    "            conn_speed = nengo.Connection(boundary.neurons, gate.neurons, transform=w_speed, seed=seed)\n",
    "        nengo.Connection(gate, action.input, transform=-1*np.ones((nActions, 1)))  # inhibition via decision criteria\n",
    "        # Probes\n",
    "        net.pInputs = nengo.Probe(environment, synapse=None)\n",
    "        net.pPerception = nengo.Probe(perception)\n",
    "        net.pAccumulator = nengo.Probe(accumulator)\n",
    "        net.pValue = nengo.Probe(value)\n",
    "        net.pGate = nengo.Probe(gate)\n",
    "        net.pAction = nengo.Probe(action.output)\n",
    "        net.accumulator = accumulator\n",
    "        net.value = value\n",
    "        net.boundary = boundary\n",
    "        net.gate = gate\n",
    "        net.conn_accumulator = conn_accumulator\n",
    "        net.conn_speed = conn_speed\n",
    "    return net"
   ]
  },
  {
   "cell_type": "markdown",
   "id": "aeff3146-59c4-4fed-9fa1-dba248e3a020",
   "metadata": {},
   "source": [
    "## Age Manipulation"
   ]
  },
  {
   "cell_type": "code",
   "execution_count": 3,
   "id": "a717535c-f8e4-4258-bd7f-5b850ae8bbbb",
   "metadata": {},
   "outputs": [],
   "source": [
    "def degrade_weights(net_young, pre_sim, degrade_accumulator, degrade_speed, seed=0, weights_or_decoders=\"weights\"):\n",
    "    young_accumulator = pre_sim.data[net_young.conn_accumulator].weights  # decoders\n",
    "    young_speed = pre_sim.data[net_young.conn_speed].weights  # decoders\n",
    "    old_accumulator = young_accumulator.copy()\n",
    "    old_speed = young_speed.copy()\n",
    "    rng = np.random.RandomState(seed=seed)\n",
    "\n",
    "    if weights_or_decoders==\"decoders\":\n",
    "        idx_accumulator = rng.choice(range(old_accumulator.shape[1]), size=int(degrade_accumulator*old_accumulator.shape[1]), replace=False)\n",
    "        idx_speed = rng.choice(range(old_speed.shape[1]), size=int(degrade_speed*old_speed.shape[1]), replace=False)\n",
    "        old_accumulator[:,idx_accumulator] = 0\n",
    "        old_speed[:,idx_speed] = 0\n",
    "\n",
    "    if weights_or_decoders==\"weights\":\n",
    "        e_accumulator = pre_sim.data[net_young.accumulator].encoders\n",
    "        e_speed = pre_sim.data[net_young.gate].encoders\n",
    "        w_accumulator = e_accumulator @ young_accumulator\n",
    "        w_speed = e_speed @ young_speed\n",
    "        # print(e_accumulator.shape, old_accumulator.shape, w_accumulator.shape)\n",
    "        flat_accumulator = w_accumulator.ravel().copy()\n",
    "        flat_speed = w_speed.ravel().copy()\n",
    "        idx_accumulator = rng.choice(range(flat_accumulator.shape[0]), size=int(degrade_accumulator*flat_accumulator.shape[0]), replace=False)\n",
    "        idx_speed = rng.choice(range(flat_speed.shape[0]), size=int(degrade_speed*flat_speed.shape[0]), replace=False)\n",
    "        flat_accumulator[idx_accumulator] = 0\n",
    "        flat_speed[idx_speed] = 0\n",
    "        old_accumulator = flat_accumulator.reshape(w_accumulator.shape)\n",
    "        old_speed = flat_speed.reshape(w_speed.shape)\n",
    "        # print(np.sum(w_accumulator), np.sum(old_accumulator))\n",
    "        # print(np.sum(w_speed), np.sum(old_speed))\n",
    "\n",
    "    return old_accumulator, old_speed"
   ]
  },
  {
   "cell_type": "markdown",
   "id": "13e8f50b-1e48-4d94-805f-2e1bf93a4446",
   "metadata": {},
   "source": [
    "## Simulation loop"
   ]
  },
  {
   "cell_type": "code",
   "execution_count": 4,
   "id": "eba19725-7b0e-4c17-8a2a-0b2cba135330",
   "metadata": {},
   "outputs": [],
   "source": [
    "def simulate(\n",
    "        coherence=0.1,\n",
    "        degrade_accumulator=0.0,\n",
    "        degrade_speed=0.0,\n",
    "        weights_or_decoders=\"decoders\",\n",
    "        emphases=['speed', 'neutral', 'accuracy'],\n",
    "        emphases_weighting=[0.8, 0.4, 0.2],\n",
    "        ramp=1.0,\n",
    "        threshold=0.4,\n",
    "        speed=-0.3,\n",
    "        relative=0.0,\n",
    "        sigma=0.1,\n",
    "        nActions=2,\n",
    "        nNeurons=500,\n",
    "        max_rates=nengo.dists.Uniform(80, 100),\n",
    "        rA=1.0,\n",
    "        trials=10,\n",
    "        perception_seed=0,\n",
    "        dt=0.001,\n",
    "        dt_sample=0.03,\n",
    "        load=False,\n",
    "        error=('ci', 95),\n",
    "        estimator=np.median,\n",
    "        tmax=3,\n",
    "        name=\"forstmann_default\"):\n",
    "    \n",
    "    columns = ['type', 'id', 'emphasis', 'degrade_accumulator', 'degrade_speed', 'trial', 'error', \"RT\"]\n",
    "    dfs = []\n",
    "    for e, emphasis in enumerate(emphases):\n",
    "        inputs = DotPerception(nActions=nActions, dt_sample=dt_sample, seed=perception_seed, sigma=sigma)\n",
    "        inputs.create(coherence=coherence)\n",
    "        S = emphases_weighting[e] * speed\n",
    "        for trial in range(trials):\n",
    "            net_young = build_network(inputs, None, None, nActions=nActions, nNeurons=nNeurons, rA=rA, seed=trial,\n",
    "                                      max_rates=max_rates, ramp=ramp, threshold=threshold, speed=S, relative=relative,\n",
    "                                      save_w=True, weights_or_decoders=weights_or_decoders)\n",
    "            sim_young = nengo.Simulator(net_young, progress_bar=False)\n",
    "            # simulate the \"young\" network\n",
    "            choice = None\n",
    "            while choice==None:\n",
    "                sim_young.run(dt)\n",
    "                if np.any(sim_young.data[net_young.pAction][-1,:] > 0.01):\n",
    "                    choice = np.argmax(sim_young.data[net_young.pAction][-1,:])\n",
    "                    RT = sim_young.trange()[-1]\n",
    "                if sim_young.trange()[-1] > tmax:\n",
    "                    choice = np.argmax(sim_young.data[net_young.pValue][-1,:])\n",
    "                    RT = sim_young.trange()[-1]\n",
    "            error = 0 if choice==inputs.correct else 100\n",
    "            dfs.append(pd.DataFrame([['young model', trial, emphasis, degrade_accumulator, degrade_speed, trial, error, RT]], columns=columns))\n",
    "\n",
    "            # effectively \"age\" the model from a functional, young model to an impaired \"elderly\" model\n",
    "            old_accumulator, old_speed = degrade_weights(net_young, sim_young, degrade_accumulator, degrade_speed, trial, weights_or_decoders)\n",
    "            net_old = build_network(inputs, old_accumulator, old_speed,\n",
    "                                    nActions=nActions, nNeurons=nNeurons, rA=rA, seed=trial,\n",
    "                                    max_rates=max_rates, ramp=ramp, threshold=threshold, speed=S, relative=relative,\n",
    "                                    save_w=False, weights_or_decoders=weights_or_decoders)\n",
    "            sim_old = nengo.Simulator(net_old, progress_bar=False)\n",
    "\n",
    "            # simulate the \"old\" network\n",
    "            choice = None\n",
    "            while choice==None:\n",
    "                sim_old.run(dt)\n",
    "                if np.any(sim_old.data[net_old.pAction][-1,:] > 0.01):\n",
    "                    choice = np.argmax(sim_old.data[net_old.pAction][-1,:])\n",
    "                    RT = sim_old.trange()[-1]\n",
    "                if sim_old.trange()[-1] > tmax:\n",
    "                    choice = np.argmax(sim_old.data[net_old.pValue][-1,:])\n",
    "                    RT = sim_old.trange()[-1]\n",
    "            error = 0 if choice==inputs.correct else 100\n",
    "            dfs.append(pd.DataFrame([['old model', trial, emphasis, degrade_accumulator, degrade_speed, trial, error, RT]], columns=columns))\n",
    "    \n",
    "    data = pd.concat(dfs, ignore_index=True)\n",
    "    data.to_pickle(f\"data/{name}.pkl\")"
   ]
  },
  {
   "cell_type": "markdown",
   "id": "a78a2267-3f26-4eb7-b615-7786b1ce7ba3",
   "metadata": {},
   "source": [
    "# Plot"
   ]
  },
  {
   "cell_type": "code",
   "execution_count": 5,
   "id": "41693ca7-2729-4c26-a906-b7de9648c5bd",
   "metadata": {},
   "outputs": [],
   "source": [
    "def plot_young_old(simfile):\n",
    "    combined = pd.read_pickle(f\"data/{simfile}.pkl\")\n",
    "\n",
    "    fig, axes = plt.subplots(nrows=2, ncols=1, sharex=True, figsize=((7, 5)))\n",
    "    sns.barplot(data=combined, x='emphasis', y='RT', hue='type',\n",
    "                 palette=palette[:2], ax=axes[0])\n",
    "    sns.barplot(data=combined, x='emphasis', y='error', hue='type',\n",
    "                 palette=palette[:2], ax=axes[1])\n",
    "    axes[0].set(xlabel=\"Emphasis\", ylabel=\"Response Time (s)\")\n",
    "    # axes[0].legend(ncols=2, loc='upper right')\n",
    "    axes[1].set(xlabel=\"Emphasis\", ylabel=\"Errors (%)\", yticks=[0,10,20,30,40])\n",
    "    axes[1].get_legend().remove()\n",
    "    plt.tight_layout()\n",
    "    fig.savefig(f\"plots/forstmann_young_old.svg\")\n",
    "    fig.savefig(f\"plots/forstmann_young_old.png\", dpi=600)"
   ]
  },
  {
   "cell_type": "markdown",
   "id": "bb65e8df-9f57-4729-ae2e-7e47494df019",
   "metadata": {},
   "source": [
    "# Empirical"
   ]
  },
  {
   "cell_type": "code",
   "execution_count": 49,
   "id": "e1234f4a-d9a3-4d61-a03e-a16a7e58ca3a",
   "metadata": {},
   "outputs": [],
   "source": [
    "def format_forstmann():\n",
    "    raw = pyreadr.read_r(\"data/forstmann.rda\")['forstmann']\n",
    "    dfs = []\n",
    "    columns = ['type', 'age', 'pid', 'emphasis', 'trial', 'RT', 'error']\n",
    "    for pid in raw['subjects'].unique():\n",
    "        data = raw.query(\"subjects==@pid\")\n",
    "        trial = 0\n",
    "        for _, row in data.iterrows():\n",
    "            # accuracy = 100 if row['R']==row['S'] else 0\n",
    "            error = 0 if row['R']==row['S'] else 100\n",
    "            emphasis = row['E']\n",
    "            RT = row['rt']\n",
    "            df = pd.DataFrame([['human', 'young', pid, emphasis, trial, RT, error]], columns=columns)\n",
    "            dfs.append(df)\n",
    "            trial += 1\n",
    "    emp = pd.concat(dfs, ignore_index=True)\n",
    "    emp.to_pickle(\"data/forstmann2011.pkl\")"
   ]
  },
  {
   "cell_type": "code",
   "execution_count": 50,
   "id": "f20263b4-4a15-458e-85c2-266aa3b6ae84",
   "metadata": {},
   "outputs": [],
   "source": [
    "format_forstmann()"
   ]
  },
  {
   "cell_type": "code",
   "execution_count": 51,
   "id": "f5b2e66a-f144-4ca0-bdcc-55869fb01e08",
   "metadata": {},
   "outputs": [],
   "source": [
    "def plot_empirical(empfile):\n",
    "    emp = pd.read_pickle(f\"data/{empfile}.pkl\")\n",
    "\n",
    "    fig, axes = plt.subplots(nrows=2, ncols=1, sharex=True, figsize=((7, 5)))\n",
    "    sns.barplot(data=emp, x='emphasis', y='RT', hue='age', order=['speed', 'neutral', 'accuracy'],\n",
    "                 palette=palette[:2], ax=axes[0])\n",
    "    sns.barplot(data=emp, x='emphasis', y='error', hue='age', order=['speed', 'neutral', 'accuracy'],\n",
    "                 palette=palette[:2], ax=axes[1])\n",
    "    axes[0].set(xlabel=\"Emphasis\", ylabel=\"Response Time (s)\")\n",
    "    # axes[0].legend(ncols=2, loc='upper right')\n",
    "    axes[1].set(xlabel=\"Emphasis\", ylabel=\"Errors (%)\", yticks=[0,10,20,30,40])\n",
    "    axes[1].get_legend().remove()\n",
    "    plt.tight_layout()\n",
    "    fig.savefig(f\"plots/forstmann_empirical.svg\")\n",
    "    fig.savefig(f\"plots/forstmann_empirical.png\", dpi=600)"
   ]
  },
  {
   "cell_type": "code",
   "execution_count": 54,
   "id": "3ed401ec-782f-450b-a4a8-7d1708f09436",
   "metadata": {},
   "outputs": [
    {
     "name": "stdout",
     "output_type": "stream",
     "text": [
      "280\n",
      "246\n",
      "284\n",
      "282\n",
      "289\n",
      "278\n",
      "289\n",
      "299\n",
      "255\n",
      "270\n",
      "299\n",
      "279\n",
      "256\n",
      "288\n",
      "305\n",
      "292\n",
      "268\n",
      "289\n",
      "302\n",
      "269\n",
      "278\n",
      "247\n",
      "276\n",
      "314\n",
      "297\n",
      "271\n",
      "278\n",
      "308\n",
      "289\n",
      "248\n",
      "298\n",
      "277\n",
      "273\n",
      "273\n",
      "271\n",
      "287\n",
      "259\n",
      "296\n",
      "287\n",
      "290\n",
      "301\n",
      "252\n",
      "241\n",
      "228\n",
      "222\n",
      "275\n",
      "303\n",
      "271\n",
      "277\n",
      "311\n",
      "257\n",
      "284\n",
      "278\n",
      "276\n",
      "293\n",
      "234\n",
      "279\n"
     ]
    }
   ],
   "source": [
    "emp = pd.read_pickle(\"data/forstmann2011.pkl\")\n",
    "for pid in emp['pid'].unique():\n",
    "    for emphasis in emp['emphasis'].unique():\n",
    "        print(len(emp.query(\"emphasis==@emphasis & pid==@pid\")['trial'].unique()))"
   ]
  },
  {
   "cell_type": "code",
   "execution_count": null,
   "id": "c3a07bc4-b659-49e3-9762-de6ebf5e6c16",
   "metadata": {},
   "outputs": [],
   "source": []
  },
  {
   "cell_type": "code",
   "execution_count": 52,
   "id": "c500c87d-eeeb-4232-ba06-ce117d7e970a",
   "metadata": {},
   "outputs": [
    {
     "name": "stderr",
     "output_type": "stream",
     "text": [
      "C:\\Users\\Peter Duggins\\AppData\\Local\\Temp\\ipykernel_16656\\3336880801.py:5: UserWarning: The palette list has more values (2) than needed (1), which may not be intended.\n",
      "  sns.barplot(data=emp, x='emphasis', y='RT', hue='age', order=['speed', 'neutral', 'accuracy'],\n",
      "C:\\Users\\Peter Duggins\\AppData\\Local\\Temp\\ipykernel_16656\\3336880801.py:7: UserWarning: The palette list has more values (2) than needed (1), which may not be intended.\n",
      "  sns.barplot(data=emp, x='emphasis', y='error', hue='age', order=['speed', 'neutral', 'accuracy'],\n"
     ]
    },
    {
     "data": {
      "image/png": "[encoded data removed]",
      "text/plain": [
       "<Figure size 700x500 with 2 Axes>"
      ]
     },
     "metadata": {},
     "output_type": "display_data"
    }
   ],
   "source": [
    "plot_empirical(\"forstmann2011\")"
   ]
  },
  {
   "cell_type": "markdown",
   "id": "f8a59071-3f31-4404-b600-09f512f46a05",
   "metadata": {},
   "source": [
    "# Simulations"
   ]
  },
  {
   "cell_type": "code",
   "execution_count": 67,
   "id": "06bf9de2-ff19-4bcf-9a46-4ef28222391b",
   "metadata": {},
   "outputs": [
    {
     "name": "stderr",
     "output_type": "stream",
     "text": [
      "C:\\Users\\Peter Duggins\\speed-accuracy-tradeoff\\.venv\\Lib\\site-packages\\nengo\\cache.py:624: UserWarning: Decoder cache could not acquire lock and was deactivated.\n",
      "  warnings.warn(\"Decoder cache could not acquire lock and was deactivated.\")\n"
     ]
    },
    {
     "data": {
      "image/png": "[encoded data removed]",
      "text/plain": [
       "<Figure size 700x500 with 2 Axes>"
      ]
     },
     "metadata": {},
     "output_type": "display_data"
    }
   ],
   "source": [
    "trials = 300\n",
    "coherence = 0.1\n",
    "sigma = 0.4\n",
    "dt_sample = 0.03\n",
    "emphases_weighting = [1.0, 0.3, 0.1]\n",
    "emphases = [\"speed\", \"neutral\", \"accuracy\"]\n",
    "degrade_accumulator = 0.05\n",
    "degrade_speed = 0.1\n",
    "threshold = 0.5\n",
    "speed = -0.25\n",
    "ramp = 1.5\n",
    "weights_or_decoders = \"weights\"\n",
    "\n",
    "simulate(\n",
    "    coherence=coherence,\n",
    "    trials=trials,\n",
    "    sigma=sigma,\n",
    "    threshold=threshold,\n",
    "    ramp=ramp,\n",
    "    emphases=emphases,\n",
    "    emphases_weighting=emphases_weighting,\n",
    "    dt_sample=dt_sample,\n",
    "    degrade_accumulator=degrade_accumulator,\n",
    "    degrade_speed=degrade_speed,\n",
    "    speed=speed,\n",
    "    weights_or_decoders=weights_or_decoders)\n",
    "\n",
    "plot_young_old(\"forstmann_default\")"
   ]
  },
  {
   "cell_type": "code",
   "execution_count": null,
   "id": "3804e475-a01b-45eb-b968-2aff3a3a5af6",
   "metadata": {},
   "outputs": [],
   "source": []
  },
  {
   "cell_type": "code",
   "execution_count": null,
   "id": "3de2fa46-8305-4895-b8ac-7ee217a8a5c4",
   "metadata": {},
   "outputs": [],
   "source": []
  }
 ],
 "metadata": {
  "kernelspec": {
   "display_name": "Python 3 (ipykernel)",
   "language": "python",
   "name": "python3"
  },
  "language_info": {
   "codemirror_mode": {
    "name": "ipython",
    "version": 3
   },
   "file_extension": ".py",
   "mimetype": "text/x-python",
   "name": "python",
   "nbconvert_exporter": "python",
   "pygments_lexer": "ipython3",
   "version": "3.11.0"
  }
 },
 "nbformat": 4,
 "nbformat_minor": 5
}
